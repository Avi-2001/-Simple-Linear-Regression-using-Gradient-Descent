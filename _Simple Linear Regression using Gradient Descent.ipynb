{
 "cells": [
  {
   "cell_type": "code",
   "execution_count": 21,
   "id": "a971649f",
   "metadata": {},
   "outputs": [],
   "source": [
    "# Simple Linear Regression using Gradient Descent\n",
    "\n",
    "import pandas as pd\n",
    "import numpy as np\n",
    "import matplotlib.pyplot as plt\n",
    "import seaborn as sns"
   ]
  },
  {
   "cell_type": "code",
   "execution_count": 22,
   "id": "56bc49c3",
   "metadata": {},
   "outputs": [],
   "source": [
    "df = pd.read_csv(r'C:\\Users\\sai\\Downloads\\Salary_Data.csv')"
   ]
  },
  {
   "cell_type": "code",
   "execution_count": 23,
   "id": "5ad28470",
   "metadata": {},
   "outputs": [
    {
     "name": "stderr",
     "output_type": "stream",
     "text": [
      "C:\\Users\\sai\\anaconda3\\lib\\site-packages\\seaborn\\_decorators.py:36: FutureWarning: Pass the following variables as keyword args: x, y. From version 0.12, the only valid positional argument will be `data`, and passing other arguments without an explicit keyword will result in an error or misinterpretation.\n",
      "  warnings.warn(\n"
     ]
    },
    {
     "data": {
      "text/plain": [
       "<AxesSubplot:xlabel='YearsExperience', ylabel='Salary'>"
      ]
     },
     "execution_count": 23,
     "metadata": {},
     "output_type": "execute_result"
    },
    {
     "data": {
      "image/png": "[encoded data removed]",
      "text/plain": [
       "<Figure size 432x288 with 1 Axes>"
      ]
     },
     "metadata": {
      "needs_background": "light"
     },
     "output_type": "display_data"
    }
   ],
   "source": [
    "X= df['YearsExperience']\n",
    "Y=df['Salary']\n",
    "sns.scatterplot(X,Y)"
   ]
  },
  {
   "cell_type": "code",
   "execution_count": 24,
   "id": "3cbaa3cf",
   "metadata": {},
   "outputs": [],
   "source": [
    "beta0=0\n",
    "beta1=0\n",
    "alpha=0.01\n",
    "count =10000\n",
    "n=float(len(X))"
   ]
  },
  {
   "cell_type": "code",
   "execution_count": 25,
   "id": "bb82675b",
   "metadata": {},
   "outputs": [],
   "source": [
    "for i in range(count): \n",
    "    Ybar = beta1*X + beta0    \n",
    "    beta1 = beta1 - (alpha/n)*sum(X*(Ybar-Y))\n",
    "    beta0 = beta0 - (alpha/n)*sum(Ybar-Y)\n",
    "    "
   ]
  },
  {
   "cell_type": "code",
   "execution_count": 26,
   "id": "41449843",
   "metadata": {},
   "outputs": [
    {
     "name": "stdout",
     "output_type": "stream",
     "text": [
      "25792.20018347487 9449.962323709777\n"
     ]
    }
   ],
   "source": [
    "print(beta0,beta1)"
   ]
  },
  {
   "cell_type": "code",
   "execution_count": 27,
   "id": "a682d74e",
   "metadata": {},
   "outputs": [],
   "source": [
    "Ybar = beta1*X + beta0\n"
   ]
  },
  {
   "cell_type": "code",
   "execution_count": 28,
   "id": "a0982de9",
   "metadata": {},
   "outputs": [
    {
     "data": {
      "image/png": "[encoded data removed]",
      "text/plain": [
       "<Figure size 432x288 with 1 Axes>"
      ]
     },
     "metadata": {
      "needs_background": "light"
     },
     "output_type": "display_data"
    }
   ],
   "source": [
    "plt.scatter(X, Y) \n",
    "plt.plot([min(X), max(X)], [min(Ybar), max(Ybar)], color='green') \n",
    "plt.show()\n"
   ]
  },
  {
   "cell_type": "code",
   "execution_count": 29,
   "id": "082bb3af",
   "metadata": {},
   "outputs": [],
   "source": [
    "import math\n",
    "def RSE(y_true, y_predicted):\n",
    "   \n",
    "    y_true = np.array(y_true)\n",
    "    y_predicted = np.array(y_predicted)\n",
    "    RSS = np.sum(np.square(y_true - y_predicted))\n",
    "\n",
    "    rse = math.sqrt(RSS / (len(y_true) - 2))\n",
    "    return rse"
   ]
  },
  {
   "cell_type": "code",
   "execution_count": 30,
   "id": "cd29a8cd",
   "metadata": {},
   "outputs": [],
   "source": [
    "rse= RSE(df['Salary'],Ybar)\n"
   ]
  },
  {
   "cell_type": "code",
   "execution_count": 31,
   "id": "0b8b6027",
   "metadata": {},
   "outputs": [
    {
     "name": "stdout",
     "output_type": "stream",
     "text": [
      "5788.3150511193935\n"
     ]
    }
   ],
   "source": [
    "print(rse)"
   ]
  },
  {
   "cell_type": "code",
   "execution_count": 34,
   "id": "4f65ab7c",
   "metadata": {},
   "outputs": [],
   "source": [
    "from sklearn.model_selection import train_test_split\n",
    "from sklearn.linear_model import LinearRegression\n",
    " "
   ]
  },
  {
   "cell_type": "code",
   "execution_count": 36,
   "id": "cf7299a6",
   "metadata": {},
   "outputs": [
    {
     "name": "stdout",
     "output_type": "stream",
     "text": [
      "[[9449.96232146]]\n",
      "[25792.20019867]\n",
      "5788.315051119395\n"
     ]
    }
   ],
   "source": [
    "x = np.array(df['YearsExperience']).reshape(-1,1)\n",
    "y = np.array(df['Salary']).reshape(-1,1)\n",
    " \n",
    "\n",
    "lr = LinearRegression()\n",
    "lr.fit(x,y)\n",
    "\n",
    "\n",
    "print(lr.coef_)\n",
    "print(lr.intercept_)\n",
    "\n",
    "yp = lr.predict(x)\n",
    "rse = RSE(y,yp)\n",
    "\n",
    "print(rse)\n"
   ]
  },
  {
   "cell_type": "code",
   "execution_count": 37,
   "id": "774cee70",
   "metadata": {},
   "outputs": [],
   "source": [
    "x = np.array(df['YearsExperience']).reshape(-1,1)\n",
    "y = np.array(df['Salary']).reshape(-1,1)\n",
    " "
   ]
  },
  {
   "cell_type": "code",
   "execution_count": 38,
   "id": "62053219",
   "metadata": {},
   "outputs": [
    {
     "data": {
      "text/plain": [
       "LinearRegression()"
      ]
     },
     "execution_count": 38,
     "metadata": {},
     "output_type": "execute_result"
    }
   ],
   "source": [
    "lr = LinearRegression()\n",
    "lr.fit(x,y)\n"
   ]
  },
  {
   "cell_type": "code",
   "execution_count": 39,
   "id": "47eaa99f",
   "metadata": {},
   "outputs": [
    {
     "name": "stdout",
     "output_type": "stream",
     "text": [
      "[[9449.96232146]]\n",
      "[25792.20019867]\n"
     ]
    }
   ],
   "source": [
    "print(lr.coef_)\n",
    "print(lr.intercept_)"
   ]
  },
  {
   "cell_type": "code",
   "execution_count": 40,
   "id": "21872b6d",
   "metadata": {},
   "outputs": [],
   "source": [
    "yp = lr.predict(x)\n",
    "rse = RSE(y,yp)\n"
   ]
  },
  {
   "cell_type": "code",
   "execution_count": 41,
   "id": "5d16d70c",
   "metadata": {},
   "outputs": [
    {
     "name": "stdout",
     "output_type": "stream",
     "text": [
      "5788.315051119395\n"
     ]
    }
   ],
   "source": [
    "print(rse)"
   ]
  },
  {
   "cell_type": "code",
   "execution_count": null,
   "id": "dbdb1e2f",
   "metadata": {},
   "outputs": [],
   "source": []
  }
 ],
 "metadata": {
  "kernelspec": {
   "display_name": "Python 3",
   "language": "python",
   "name": "python3"
  },
  "language_info": {
   "codemirror_mode": {
    "name": "ipython",
    "version": 3
   },
   "file_extension": ".py",
   "mimetype": "text/x-python",
   "name": "python",
   "nbconvert_exporter": "python",
   "pygments_lexer": "ipython3",
   "version": "3.8.8"
  }
 },
 "nbformat": 4,
 "nbformat_minor": 5
}
